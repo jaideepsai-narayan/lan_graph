{
 "cells": [
  {
   "cell_type": "code",
   "execution_count": 1,
   "id": "0ddde9df-56f7-4436-aae8-33159b190a8f",
   "metadata": {},
   "outputs": [],
   "source": [
    "# document --> https://langchain-ai.github.io/langgraph/tutorials/rag/langgraph_agentic_rag/#2-create-a-retriever-tool\n",
    "# %%capture --no-stderr\n",
    "# %pip install -U --quiet langgraph \"langchain[openai]\" langchain-community langchain-text-splitters\n"
   ]
  },
  {
   "cell_type": "code",
   "execution_count": 1,
   "id": "d0c5ee8a-a2c7-44b7-9f72-79a78039a57a",
   "metadata": {},
   "outputs": [],
   "source": [
    "import os\n",
    "from dotenv import load_dotenv\n",
    "\n",
    "load_dotenv()\n",
    "os.environ['GROQ_API_KEY']=os.getenv(\"GROQ_API_KEY\")"
   ]
  },
  {
   "cell_type": "markdown",
   "id": "284bb440-be00-4d3c-ba14-360e2ca6c467",
   "metadata": {},
   "source": [
    "## Online web postloading\n"
   ]
  },
  {
   "cell_type": "code",
   "execution_count": 2,
   "id": "b756ea4a-9894-4677-ace8-28f3a41eb3d9",
   "metadata": {},
   "outputs": [],
   "source": [
    "# from langchain_community.document_loaders import WebBaseLoader\n",
    "\n",
    "# urls = [\n",
    "#     \"https://lilianweng.github.io/posts/2024-11-28-reward-hacking/\",\n",
    "#     \"https://lilianweng.github.io/posts/2024-07-07-hallucination/\",\n",
    "#     \"https://lilianweng.github.io/posts/2024-04-12-diffusion-video/\",\n",
    "# ]\n",
    "\n",
    "# docs = [WebBaseLoader(url).load() for url in urls]"
   ]
  },
  {
   "cell_type": "code",
   "execution_count": 3,
   "id": "03a530d4-1794-4167-8bff-0e9b2ec6cb6e",
   "metadata": {},
   "outputs": [],
   "source": [
    "# docs[0][0].page_content.strip()[:1000]"
   ]
  },
  {
   "cell_type": "code",
   "execution_count": null,
   "id": "c7edce23-949b-434e-8818-850f094f70ab",
   "metadata": {},
   "outputs": [],
   "source": [
    "# from langchain_text_splitters import RecursiveCharacterTextSplitter\n",
    "\n",
    "# docs_list = [item for sublist in docs for item in sublist]\n",
    "\n",
    "# text_splitter = RecursiveCharacterTextSplitter.from_tiktoken_encoder(\n",
    "#     chunk_size=100, chunk_overlap=50\n",
    "# )\n",
    "# doc_splits = text_splitter.split_documents(docs_list)"
   ]
  },
  {
   "cell_type": "code",
   "execution_count": null,
   "id": "43c0c384-025b-4951-8c74-c709e1953ad3",
   "metadata": {},
   "outputs": [],
   "source": [
    "# doc_splits[2].page_content.strip()"
   ]
  },
  {
   "cell_type": "markdown",
   "id": "7ff2ebb3-cf4d-46c4-924e-ef2b2621ab1a",
   "metadata": {},
   "source": [
    "## custom pdf loading"
   ]
  },
  {
   "cell_type": "code",
   "execution_count": 4,
   "id": "5ddc5ef0-b02e-4764-9d5b-f15b4ad40f0a",
   "metadata": {},
   "outputs": [],
   "source": [
    "# from langchain_community.document_loaders import PyPDFLoader\n",
    "\n",
    "# pdf_path = \"./vtune-profiler_user-guide_2023.1-766319-773628.pdf\"\n",
    "\n",
    "# # Load the PDF into LangChain Documents\n",
    "# loader = PyPDFLoader(pdf_path)\n",
    "# docs = loader.load()  # List of Document objects"
   ]
  },
  {
   "cell_type": "code",
   "execution_count": 7,
   "id": "965e108e-2819-4b4f-b1e6-2b46f83f7c00",
   "metadata": {},
   "outputs": [],
   "source": [
    "from langchain_community.document_loaders import PyPDFLoader\n",
    "from langchain_text_splitters import RecursiveCharacterTextSplitter\n",
    "\n",
    "pdf_path = \"./vtune-profiler_user-guide_2023.1-766319-773628.pdf\"\n",
    "\n",
    "# Load PDF pages as documents\n",
    "loader = PyPDFLoader(pdf_path)\n",
    "documents = loader.load()  # List of Document objects, each representing a page\n",
    "\n",
    "# Now you can pass this directly to the splitter\n",
    "text_splitter = RecursiveCharacterTextSplitter.from_tiktoken_encoder(\n",
    "    chunk_size=1000, chunk_overlap=100\n",
    ")\n",
    "\n",
    "# Split documents into smaller chunks\n",
    "doc_splits = text_splitter.split_documents(documents)\n",
    "\n",
    "# doc_splits is now a list of smaller Document chunks ready for further use"
   ]
  },
  {
   "cell_type": "code",
   "execution_count": 9,
   "id": "5e6e3d4f-d16c-46c4-87a8-dcbce91e58ef",
   "metadata": {},
   "outputs": [
    {
     "data": {
      "text/plain": [
       "'Build and Install the Sampling Drivers for Linux* Targets ............. 92\\nDebug Information for Linux* Application Binaries....................... 96\\nCompiler Switches for Performance Analysis on Linux* Targets...... 97\\nEnable Linux* Kernel Analysis................................................. 101\\nResolution of Symbol Names for Linux-Loadable Kernel Modules.. 103\\nAnalyze Statically Linked Binaries on Linux* Targets .................. 104\\nSet Up Remote Linux* Target ................................................. 105\\nEmbedded Linux* Targets............................................................... 115\\nConfigure Yocto Project* and VTune Profiler with the Integration\\nLayer .............................................................................. 120\\nConfigure Yocto Project*/Wind River* Linux* and Intel® VTune™\\nProfiler with the Intel System Studio Integration Layer........... 122\\nConfigure Yocto Project* and Intel® VTune™ Profiler with the\\nLinux* Target Package....................................................... 124\\nFreeBSD* Targets ......................................................................... 125\\nSet Up FreeBSD* System....................................................... 128\\nQNX* Targets ............................................................................... 129\\nManaged Code Targets................................................................... 130\\n.NET* Targets....................................................................... 131\\nWindows Store Application Targets .......................................... 133\\nGo* Application Targets ......................................................... 134\\nAndroid* Targets........................................................................... 135\\nBuild and Install Sampling Drivers for Android* Targets.............. 137\\nSet Up Android* System ........................................................ 138\\nEnable Java* Analysis on Android* System............................... 139\\nPrepare an Android* Application for Analysis ............................ 142\\nAnalyze Unplugged Devices.................................................... 143\\nSearch Directories for Android* Targets ................................... 144\\nIntel® Xeon Phi™ Processor Targets................................................... 144\\nTargets in Virtualized Environments ................................................. 147\\nProfile Targets on a VMware* Guest System ............................. 148\\nProfile Targets on a Parallels* Guest System ............................. 149\\nProfile Targets on a KVM* Guest System .................................. 150\\nProfile Targets on a Xen* Virtualization Platform........................ 159\\nProfile Targets in the Hyper-V* Environment............................. 160\\nTargets in a Cloud Environment....................................................... 161\\nArbitrary Targets........................................................................... 161\\nEmbedded System Targets ............................................................. 163\\nAnalyze Performance ............................................................................. 164\\nUser-Mode Sampling and Tracing Collection ...................................... 165\\nHardware Event-based Sampling Collection....................................... 166\\nAllow Multiple Runs or Multiplex Events.................................... 168\\nHardware Event-based Sampling Collection with Stacks ............. 169\\nPerformance Snapshot................................................................... 173\\nAlgorithm Group ........................................................................... 175\\nHotspots Analysis for CPU Usage Issues ................................... 175\\nAnomaly Detection Analysis (preview) ..................................... 182\\nMemory Consumption Analysis ............................................... 190\\nMicroarchitecture Analysis Group..................................................... 192\\nMicroarchitecture Exploration Analysis for Hardware Issues ........ 192\\nMemory Access Analysis for Cache Misses and High Bandwidth\\nIssues ............................................................................. 201\\nParallelism Analysis Group.............................................................. 213\\nThreading Analysis................................................................ 213\\nHPC Performance Characterization Analysis ............................. 222\\nContents\\n3'"
      ]
     },
     "execution_count": 9,
     "metadata": {},
     "output_type": "execute_result"
    }
   ],
   "source": [
    "doc_splits[2].page_content.strip()"
   ]
  },
  {
   "cell_type": "code",
   "execution_count": 10,
   "id": "6c7489c1-1130-4e05-aa0a-41ef8eaec8b1",
   "metadata": {
    "scrolled": true
   },
   "outputs": [
    {
     "name": "stderr",
     "output_type": "stream",
     "text": [
      "/tmp/ipykernel_822010/2517079203.py:5: LangChainDeprecationWarning: The class `HuggingFaceEmbeddings` was deprecated in LangChain 0.2.2 and will be removed in 1.0. An updated version of the class exists in the `langchain-huggingface package and should be used instead. To use it run `pip install -U `langchain-huggingface` and import as `from `langchain_huggingface import HuggingFaceEmbeddings``.\n",
      "  embedding_model = HuggingFaceEmbeddings(model_name='sentence-transformers/all-MiniLM-L6-v2')\n"
     ]
    }
   ],
   "source": [
    "from langchain_community.embeddings import HuggingFaceEmbeddings\n",
    "from langchain_core.vectorstores import InMemoryVectorStore\n",
    "\n",
    "# Create the embedding model wrapper\n",
    "embedding_model = HuggingFaceEmbeddings(model_name='sentence-transformers/all-MiniLM-L6-v2')\n",
    "\n",
    "# Build the vector store\n",
    "vectorstore = InMemoryVectorStore.from_documents(\n",
    "    documents=doc_splits,\n",
    "    embedding=embedding_model\n",
    ")\n",
    "\n",
    "# Create the retriever\n",
    "retriever = vectorstore.as_retriever()\n",
    "\n"
   ]
  },
  {
   "cell_type": "code",
   "execution_count": 29,
   "id": "ae4d41e4-fcda-4e71-bff8-e91b635df841",
   "metadata": {
    "scrolled": true
   },
   "outputs": [],
   "source": [
    "from langchain_core.tools.retriever import create_retriever_tool\n",
    "\n",
    "retriever_tool = create_retriever_tool(\n",
    "    retriever,\n",
    "    \"retrieve_blog_posts\",\n",
    "    # \"Search and return information about Lilian Weng blog post.\",\n",
    "    \"Serach and return information about Vtune profiler.\",\n",
    ")\n"
   ]
  },
  {
   "cell_type": "code",
   "execution_count": 30,
   "id": "4ba2859f-7b27-4ebd-9467-2696e8c70d85",
   "metadata": {},
   "outputs": [
    {
     "data": {
      "text/plain": [
       "'NOTE\\nIntel® VTune™ Profiler is a new renamed version of the Intel® VTune™ Amplifier.\\nHow It Works\\nThe Microarchitecture Exploration analysis strategy varies by microarchitecture. For modern\\nmicroarchitectures starting with Intel microarchitecture code name Ivy Bridge, the Microarchitecture\\nExploration analysis is based on the Top-Down Microarchitecture Analysis Method using the Top-Down\\nCharacterization methodology, which is a hierarchical organization of event-based metrics that identifies the\\ndominant performance bottlenecks in an application.\\nSuperscalar processors can be conceptually divided into the front-end, where instructions are fetched and\\ndecoded into the operations that constitute them, and the back-end, where the required computation is\\nperformed. Each cycle, the front-end generates up to four of these operations. It places them into pipeline\\nslots that then move through the back-end. Thus, for a given execution duration in clock cycles, it is easy to\\ndetermine the maximum number of pipeline slots containing useful work that can be retired in that duration.\\nThe actual number of retired pipeline slots containing useful work, though, rarely equals this maximum. This\\ncan be due to several factors: some pipeline slots cannot be filled with useful work, either because the front-\\nend could not fetch or decode instructions in time (Front-end bound execution) or because the back-end was\\nnot prepared to accept more operations of a certain kind (Back-end bound execution). Moreover, even\\npipeline slots that do contain useful work may not retire due to bad speculation. Front-end bound execution\\nmay be due to a large code working set, poor code layout, or microcode assists. Back-end bound execution\\nmay be due to long-latency operations or other contention for execution resources. Bad speculation is most\\nfrequently due to branch misprediction.\\nEach cycle, each core can fill up to four of its pipeline slots with useful operations. Therefore, for some time\\ninterval, it is possible to determine the maximum number of pipeline slots that could have been filled in and\\nissued during that time interval. This analysis performs this estimate and breaks up all pipeline slots into four\\ncategories:\\n• Pipeline slots containing useful work that issued and retired (Retired)\\nIntel® VTune™ Profiler User Guide  1  \\n193\\n\\nContext-sensitive help icon for the current viewpoint.\\nViewpoint drop-down menu that displays a list of viewpoints available for the current analysis type.\\nExplore the table below to understand which viewpoints are available for each analysis type:\\nViewpoint Description\\nHotspots by CPU\\nUtilization\\nHelps identify hotspots - code regions in the application that consume a lot\\nof CPU time. CPU time is broken down into CPU utilization states: idle,\\npoor, fair, and good.\\nThreading Efficiency Shows how your multi-threaded application is utilizing available CPU cores\\nand helps identify the possible causes of ineffective utilization. Use this\\nview to find threads waiting too long on synchronization objects (locks) or\\nidentify scheduling overhead.\\nMicroarchitecture\\nExploration\\nHelps identify where the application is not making the best use of available\\nhardware resources. This viewpoint displays metrics derived from hardware\\nevents. The Summary window reports overall metrics for the entire\\nexecution along with explanations of the metrics. From the Bottom-up\\nand Top-down Tree windows you can locate the hardware issues in your\\napplication. Cells are highlighted when potential opportunities to improve\\nperformance are detected. Hover over the highlighted metrics in the grid to\\nsee explanations of the issues.\\nHardware Events Displays statistics of monitored hardware events: estimated count and/or\\nthe number of samples collected. Use this view to identify code regions\\n(modules, functions, code lines, and so on) with the highest activity for an\\nevent of interest.\\nMemory Usage Helps understand how effectively your application uses memory resources\\nand identify potential memory access related issues like excessive access\\nto remote memory on NUMA platforms, hitting DRAM or Interconnect\\nbandwidth limit, and others. It provides various performance metrics for\\nboth the application code and memory objects arrays.\\nHPC Performance\\nCharacterization\\nHelps understand how effectively your application uses CPU, memory, and\\nfloating-point operation resources. Use this view to identify scalability\\nissues for Intel OpenMP and MPI runtimes as well as next steps to increase\\nmemory and FPU efficiency.\\nInput and Output Shows input/output data, CPU and bus utilization statistics correlated with\\nthe execution of your target. Use this view to identify long latency of I/O\\nrequests, explore call stacks for I/O functions, analyze slow I/O requests\\non the timeline and identify imbalance between I/O and compute\\noperations.\\nGPU Compute/Media\\nHotspots\\nHelps identify GPU tasks with high GPU utilization and estimate its\\neffectiveness. It is particularly useful for SYCL computing tasks, analysis of\\nthe OpenCL™ kernels and Intel Media SDK tasks. Use this view to identify\\nthe most time-consuming GPU computing tasks, analyze GPU tasks\\nexecution over time, explore the GPU hardware metrics per GPU\\narchitecture blocks, and so on.\\nFPGA Hotspots Helps identify the FPGA and CPU tasks with high utilization. Use this view\\nto assess FPGA time spent executing kernels, overall time for memory\\ntransfers between the CPU and FPGA, and how well a workload is balanced\\nbetween the CPU and FPGA.\\nIntel® VTune™ Profiler User Guide  1  \\n417\\n\\ncategories so that you could easily identify what\\nportion of the pipeline is responsible for the majority\\nof execution time.\\nWhen the Microarchitecture Exploration analysis (formerly known as General Exploration) is complete, the\\nVTune Profiler opens the Microarchitecture Exploration viewpoint. The hierarchy of event-based metrics in\\nthis viewpoint depends on your hardware architecture. For example, starting with the Intel microarchitecture\\ncode name Ivy Bridge, the VTune Profiler analyzes execution categories based on the Top-Down\\nMicroarchitecture Analysis Method:\\nThe four leaf categories serve as high-level performance metrics in the Microarchitecture Exploration\\nviewpoint.\\nEach metric is an event ratio defined by Intel architects and has its own predefined threshold. VTune Profiler\\nanalyzes a ratio value for each aggregated program unit (for example, function). When this value exceeds\\nthe threshold and the program unit has more then 5% of CPU time from collection CPU time, it signals a\\npotential performance problem and highlights such a value in pink.\\nNOTE\\n• For a detailed tuning methodology behind the Microarchitecture Exploration analysis and some of\\nthe complexities associated with this analysis, see Understanding How General Exploration Works in\\nIntel® VTune™ Profiler.\\n• For architecture-specific Tuning Guides, visit https://software.intel.com/en-us/articles/processor-\\nspecific-performance-analysis-papers.\\nTo interpret the performance data provided during the hardware event-based sampling analysis, you may\\nfollow the steps below:\\n1. Learn metrics and define a performance baseline.\\n2. Identify hardware issues.\\n3. Analyze source.\\n4. Explore other analysis types/viewpoints.\\nLearn Metrics and Define a Performance Baseline\\nIn the Microarchitecture Exploration viewpoint, click the Summary tab to switch to the Summary window.\\n  1  Intel® VTune™ Profiler User Guide\\n196\\n\\n• Pipeline slots containing useful work that issued and cancelled (Bad speculation)\\n• Pipeline slots that could not be filled with useful work due to problems in the front-end (Front-end Bound)\\n• Pipeline slots that could not be filled with useful work due to a backup in the back-end (Back-end Bound)\\nTo use Microarchitecture Exploration analysis, first determine which top-level category dominates for\\nhotspots of interest. You can then dive into the dominating category by expanding its column. There, you can\\nfind many issues that may contribute to that category.\\nNOTE\\n• For a detailed tuning methodology behind the Microarchitecture Exploration analysis and some of\\nthe complexities associated with this analysis, see Understanding How General Exploration Works in\\nIntel® VTune™ Profiler.\\n• For architecture-specific Tuning Guides, visit https://software.intel.com/en-us/articles/processor-\\nspecific-performance-analysis-papers.\\nConfigure and Run Analysis\\nTo configure options for the Microarchitecture Exploration analysis:\\nPrerequisites: Create a project and specify an analysis target.\\n1. Click the \\n(standalone GUI)/\\n(Visual Studio IDE) Configure Analysis button on the Intel® VTune™ Profiler toolbar.\\nThe Configure Analysis window opens.\\n2. From HOW pane, click the \\nBrowse button and select Microarchitecture Exploration.\\n3. Configure the following options:\\nCPU sampling\\ninterval, ms spin\\nbox\\nSpecify an interval (in milliseconds) between CPU samples.\\nPossible values - 1-1000.\\nThe default value is 1 ms.\\nExtend\\ngranularity for\\nthe top-level\\nmetrics selection\\narea\\nBy default, VTune Profiler collects data required to compute top-level metrics\\n(Front-End Bound, Bad Speculation, Memory Bound, Core Bound, and \\nRetiring) and all their sub-metrics.\\nYou may limit the data collection by selecting particular top-level metrics. In\\nthis case, the VTune Profiler extends the level of granularity and collects\\nadditional sub-metrics only for the selected top-level metrics. For example, if\\nyou select the Memory Bound top-level metric, the VTune Profiler collects\\nadditional data and provides Memory Bound sub-metrics (such as DRAM\\nBound, Store Bound, and so on), which helps narrow down the analysis to\\nparticular microarchitecture levels.\\nLimiting the amount of data collected simultaneously may also improve\\nprofiling accuracy due to less multiplexing. This may be particularly helpful for\\nshort-running application or applications with short phases.\\n  1  Intel® VTune™ Profiler User Guide\\n194'"
      ]
     },
     "execution_count": 30,
     "metadata": {},
     "output_type": "execute_result"
    }
   ],
   "source": [
    "retriever_tool.invoke({\"query\": \"what is microarchitecture analysis?\"})\n"
   ]
  },
  {
   "cell_type": "markdown",
   "id": "f29bbd64-2942-411b-a819-00d6686e89a5",
   "metadata": {},
   "source": [
    "## Generate query"
   ]
  },
  {
   "cell_type": "code",
   "execution_count": 31,
   "id": "31d0451c-955d-4faf-8c34-cb87000d32d3",
   "metadata": {},
   "outputs": [],
   "source": [
    "from langgraph.graph import MessagesState\n",
    "from langchain_groq import ChatGroq\n",
    "\n",
    "response_model = ChatGroq(\n",
    "    model=\"openai/gpt-oss-20b\",\n",
    "    temperature=0,\n",
    "    max_tokens=None,\n",
    "    # reasoning_format=\"parsed\", # not a thinking model\n",
    "    timeout=None,\n",
    "    max_retries=2,\n",
    "    # other params...\n",
    ")\n",
    "\n",
    "\n",
    "def generate_query_or_respond(state: MessagesState):\n",
    "    \"\"\"Call the model to generate a response based on the current state. Given\n",
    "    the question, it will decide to retrieve using the retriever tool, or simply respond to the user.\n",
    "    \"\"\"\n",
    "    response = (\n",
    "        response_model\n",
    "        .bind_tools([retriever_tool]).invoke(state[\"messages\"])\n",
    "    )\n",
    "    return {\"messages\": [response]}"
   ]
  },
  {
   "cell_type": "code",
   "execution_count": 32,
   "id": "1fb57601-d3b8-4aaa-ac67-0f418067c123",
   "metadata": {},
   "outputs": [
    {
     "name": "stdout",
     "output_type": "stream",
     "text": [
      "==================================\u001b[1m Ai Message \u001b[0m==================================\n",
      "\n",
      "Hello! How can I help you today?\n"
     ]
    }
   ],
   "source": [
    "input = {\"messages\": [{\"role\": \"user\", \"content\": \"hello!\"}]}\n",
    "generate_query_or_respond(input)[\"messages\"][-1].pretty_print()"
   ]
  },
  {
   "cell_type": "code",
   "execution_count": 33,
   "id": "619b7929-aec1-44fe-b25c-56389a7db98f",
   "metadata": {},
   "outputs": [
    {
     "name": "stdout",
     "output_type": "stream",
     "text": [
      "==================================\u001b[1m Ai Message \u001b[0m==================================\n",
      "\n",
      "### Microarchitecture Analysis – A Quick Overview\n",
      "\n",
      "**Microarchitecture analysis** is the systematic study of the internal structure and behavior of a processor (or any digital system) at the level of its *micro‑architecture*—the concrete implementation of the instruction set architecture (ISA). It goes beyond the abstract ISA to look at how the hardware is actually built: pipelines, caches, branch predictors, execution units, interconnects, power‑management units, and more.\n",
      "\n",
      "---\n",
      "\n",
      "## 1. Why Do We Do It?\n",
      "\n",
      "| Goal | Why it matters |\n",
      "|------|----------------|\n",
      "| **Performance tuning** | Identify bottlenecks (e.g., cache misses, pipeline stalls) and guide optimizations. |\n",
      "| **Power & thermal optimization** | Pinpoint high‑power units, idle states, and leakage paths. |\n",
      "| **Design validation** | Verify that a new micro‑architecture meets performance, power, and area targets. |\n",
      "| **Security analysis** | Detect side‑channel vulnerabilities (e.g., speculative execution leaks). |\n",
      "| **Competitive benchmarking** | Compare different CPUs or GPUs on a level playing field. |\n",
      "\n",
      "---\n",
      "\n",
      "## 2. What Is Inside a Micro‑Architecture?\n",
      "\n",
      "| Component | Typical Function | Key Metrics |\n",
      "|-----------|------------------|-------------|\n",
      "| **Instruction fetch & decode** | Fetch instructions from memory, decode into micro‑operations. | Fetch bandwidth, decode throughput, branch misprediction rate. |\n",
      "| **Pipeline stages** | Split execution into stages (IF, ID, EX, MEM, WB). | Pipeline depth, stall frequency, bubble count. |\n",
      "| **Execution units** | ALUs, FPUs, vector units, cryptographic engines. | Throughput, latency, utilization. |\n",
      "| **Caches & memory hierarchy** | L1/L2/L3 caches, TLBs, DRAM controller. | Hit/miss rates, latency, bandwidth. |\n",
      "| **Branch predictor** | Predict next PC to reduce stalls. | Mis‑prediction rate, predictor size. |\n",
      "| **Out‑of‑order engine** | Reorder buffer, reservation stations, register renaming. | Issue width, reorder buffer size, dependency stalls. |\n",
      "| **Power management** | Clock gating, DVFS, power‑gating. | Dynamic/static power, power‑gate efficiency. |\n",
      "| **Interconnect** | Ring bus, crossbar, NoC. | Bandwidth, latency, contention. |\n",
      "\n",
      "---\n",
      "\n",
      "## 3. How Is Microarchitecture Analysis Done?\n",
      "\n",
      "| Technique | What It Measures | Typical Tools |\n",
      "|-----------|------------------|---------------|\n",
      "| **Hardware performance counters (HPCs)** | Low‑level events (cycles, instructions, cache hits/misses, branch mispredictions). | Intel VTune, AMD uProf, ARM Streamline, Linux perf. |\n",
      "| **Dynamic binary instrumentation** | Runtime profiling of code paths, memory accesses. | Intel PIN, DynamoRIO, Valgrind. |\n",
      "| **Static analysis / simulation** | Predict performance of untested code or designs. | SimpleScalar, gem5, Sniper, MARSS. |\n",
      "| **Micro‑benchmarking** | Targeted tests for specific units (e.g., vector add). | Custom assembly, SPEC CPU, AArch64 micro‑benchmarks. |\n",
      "| **Power estimation** | Estimate dynamic/static power per component. | McPAT, CACTI, commercial power models. |\n",
      "| **Signal‑level simulation** | Verify timing, power, and layout. | SPICE, Cadence, Synopsys. |\n",
      "| **Side‑channel analysis** | Detect leakage via timing, power, EM. | ChipWhisperer, custom scripts. |\n",
      "\n",
      "### Example Workflow\n",
      "\n",
      "1. **Define the target** – e.g., “measure the impact of L1 cache misses on a matrix multiplication kernel.”\n",
      "2. **Select counters** – `L1-dcache-load-misses`, `L1-dcache-loads`, `cpu-clock`, `instructions`.\n",
      "3. **Run the workload** – with a profiler (VTune, perf).\n",
      "4. **Collect data** – per‑function or per‑loop statistics.\n",
      "5. **Interpret** – compute miss rates, stall cycles, and correlate with code.\n",
      "6. **Iterate** – modify code or architecture (e.g., change loop tiling) and re‑measure.\n",
      "\n",
      "---\n",
      "\n",
      "## 4. Common Performance Metrics\n",
      "\n",
      "| Metric | What It Tells You |\n",
      "|--------|-------------------|\n",
      "| **IPC (Instructions per Cycle)** | Overall throughput. |\n",
      "| **Cycles per Instruction (CPI)** | Lower CPI → better performance. |\n",
      "| **Cache hit/miss rates** | Identify memory‑bound sections. |\n",
      "| **Branch misprediction rate** | Indicates branch‑prediction quality. |\n",
      "| **Stall cycles** | How often the pipeline is idle. |\n",
      "| **Execution unit utilization** | Whether units are under‑used or saturated. |\n",
      "| **Power‑delay product** | Trade‑off between performance and energy. |\n",
      "\n",
      "---\n",
      "\n",
      "## 5. Real‑World Example: Using Intel VTune\n",
      "\n",
      "Intel VTune Amplifier is a flagship tool for microarchitecture analysis on Intel CPUs. A typical workflow:\n",
      "\n",
      "1. **Profile a binary** – `vtune -collect hotspots -result-dir myprofile ./myapp`.\n",
      "2. **Open the report** – VTune shows hotspots, CPU cycles, and a *Micro‑architecture* view.\n",
      "3. **Inspect counters** – e.g., `L1-dcache-load-misses`, `branch-mispredictions`.\n",
      "4. **Drill down** – Click on a hotspot to see assembly, pipeline stalls, and suggested optimizations.\n",
      "5. **Apply fixes** – Re‑compile with optimizations, or adjust code (loop tiling, vectorization).\n",
      "6. **Re‑profile** – Verify improvements.\n",
      "\n",
      "VTune also supports *micro‑architecture tuning* for GPUs, embedded CPUs, and ARM cores, making it a versatile tool across many platforms.\n",
      "\n",
      "---\n",
      "\n",
      "## 6. When to Use Microarchitecture Analysis\n",
      "\n",
      "| Scenario | Recommended Approach |\n",
      "|----------|----------------------|\n",
      "| **Optimizing a performance‑critical loop** | Use HPCs + VTune or perf to find cache/memory bottlenecks. |\n",
      "| **Designing a new CPU core** | Combine simulation (gem5) with power models (McPAT). |\n",
      "| **Investigating a security vulnerability** | Side‑channel analysis + micro‑benchmarking. |\n",
      "| **Comparing two CPUs** | Use standardized benchmarks (SPEC, PARSEC) + HPCs. |\n",
      "| **Embedded system power tuning** | Power‑gating analysis + dynamic voltage/frequency scaling. |\n",
      "\n",
      "---\n",
      "\n",
      "## 7. Take‑Away Summary\n",
      "\n",
      "- **Microarchitecture analysis** digs into the *hardware* implementation of a processor, beyond the ISA.\n",
      "- It uses **performance counters, simulation, and instrumentation** to measure how code interacts with pipelines, caches, and execution units.\n",
      "- The goal is to **identify bottlenecks, guide optimizations, validate designs, and ensure security**.\n",
      "- Tools like **Intel VTune, AMD uProf, ARM Streamline, Linux perf, and simulation frameworks** are the workhorses of this field.\n",
      "\n",
      "If you’re looking to get started, pick a simple benchmark, run it under a profiler (e.g., VTune or perf), and explore the *micro‑architecture* view to see which parts of the CPU are doing the heavy lifting. From there, you can iterate on code or design changes and re‑measure to confirm improvements.\n"
     ]
    }
   ],
   "source": [
    "input = {\n",
    "    \"messages\": [\n",
    "        {\n",
    "            \"role\": \"user\",\n",
    "            # \"content\": \"What does Lilian Weng say about types of reward hacking?\",\n",
    "            \"content\":\"what is microarchitecture analysis?\",\n",
    "        }\n",
    "    ]\n",
    "}\n",
    "generate_query_or_respond(input)[\"messages\"][-1].pretty_print()"
   ]
  },
  {
   "cell_type": "markdown",
   "id": "24bc5027-9292-42c9-9cb2-48be56f70dd2",
   "metadata": {},
   "source": [
    "## Grade documents"
   ]
  },
  {
   "cell_type": "code",
   "execution_count": 34,
   "id": "136f2e90-db17-41d8-bc33-a2145410515c",
   "metadata": {},
   "outputs": [],
   "source": [
    "from pydantic import BaseModel, Field\n",
    "from typing import Literal\n",
    "\n",
    "GRADE_PROMPT = (\n",
    "    \"You are a grader assessing relevance of a retrieved document to a user question. \\n \"\n",
    "    \"Here is the retrieved document: \\n\\n {context} \\n\\n\"\n",
    "    \"Here is the user question: {question} \\n\"\n",
    "    \"If the document contains keyword(s) or semantic meaning related to the user question, grade it as relevant. \\n\"\n",
    "    \"Give a binary score 'yes' or 'no' score to indicate whether the document is relevant to the question.\"\n",
    ")\n",
    "\n",
    "\n",
    "class GradeDocuments(BaseModel):\n",
    "    \"\"\"Grade documents using a binary score for relevance check.\"\"\"\n",
    "\n",
    "    binary_score: str = Field(\n",
    "        description=\"Relevance score: 'yes' if relevant, or 'no' if not relevant\"\n",
    "    )\n",
    "\n",
    "\n",
    "# grader_model = init_chat_model(\"openai:gpt-4.1\", temperature=0)  not using openai\n",
    "grader_model =ChatGroq(\n",
    "    model=\"openai/gpt-oss-20b\",\n",
    "    temperature=0,\n",
    "    max_tokens=None,\n",
    "    # reasoning_format=\"parsed\", # not a thinking model\n",
    "    timeout=None,\n",
    "    max_retries=2,\n",
    "    # other params...\n",
    ")\n",
    "\n",
    "\n",
    "def grade_documents(\n",
    "    state: MessagesState,\n",
    ") -> Literal[\"generate_answer\", \"rewrite_question\"]:\n",
    "    \"\"\"Determine whether the retrieved documents are relevant to the question.\"\"\"\n",
    "    question = state[\"messages\"][0].content\n",
    "    context = state[\"messages\"][-1].content\n",
    "\n",
    "    prompt = GRADE_PROMPT.format(question=question, context=context)\n",
    "    response = (\n",
    "        grader_model\n",
    "        .with_structured_output(GradeDocuments).invoke(\n",
    "            [{\"role\": \"user\", \"content\": prompt}]\n",
    "        )\n",
    "    )\n",
    "    score = response.binary_score\n",
    "\n",
    "    if score == \"yes\":\n",
    "        return \"generate_answer\"\n",
    "    else:\n",
    "        return \"rewrite_question\""
   ]
  },
  {
   "cell_type": "code",
   "execution_count": 35,
   "id": "4532ea8b-9921-4c07-b0a3-c219280f924b",
   "metadata": {},
   "outputs": [
    {
     "data": {
      "text/plain": [
       "'rewrite_question'"
      ]
     },
     "execution_count": 35,
     "metadata": {},
     "output_type": "execute_result"
    }
   ],
   "source": [
    "from langchain_core.messages import convert_to_messages\n",
    "\n",
    "input = {\n",
    "    \"messages\": convert_to_messages(\n",
    "        [\n",
    "            {\n",
    "                \"role\": \"user\",\n",
    "                \"content\": \"What does Lilian Weng say about types of reward hacking?\",\n",
    "            },\n",
    "            {\n",
    "                \"role\": \"assistant\",\n",
    "                \"content\": \"\",\n",
    "                \"tool_calls\": [\n",
    "                    {\n",
    "                        \"id\": \"1\",\n",
    "                        \"name\": \"retrieve_blog_posts\",\n",
    "                        \"args\": {\"query\": \"types of reward hacking\"},\n",
    "                    }\n",
    "                ],\n",
    "            },\n",
    "            {\"role\": \"tool\", \"content\": \"meow\", \"tool_call_id\": \"1\"},\n",
    "        ]\n",
    "    )\n",
    "}\n",
    "grade_documents(input)"
   ]
  },
  {
   "cell_type": "code",
   "execution_count": 36,
   "id": "c12ad34a-f74c-4a14-9a2d-ed6bfd869dc1",
   "metadata": {},
   "outputs": [
    {
     "data": {
      "text/plain": [
       "'generate_answer'"
      ]
     },
     "execution_count": 36,
     "metadata": {},
     "output_type": "execute_result"
    }
   ],
   "source": [
    "input = {\n",
    "    \"messages\": convert_to_messages(\n",
    "        [\n",
    "            {\n",
    "                \"role\": \"user\",\n",
    "                \"content\": \"What does Lilian Weng say about types of reward hacking?\",\n",
    "            },\n",
    "            {\n",
    "                \"role\": \"assistant\",\n",
    "                \"content\": \"\",\n",
    "                \"tool_calls\": [\n",
    "                    {\n",
    "                        \"id\": \"1\",\n",
    "                        \"name\": \"retrieve_blog_posts\",\n",
    "                        \"args\": {\"query\": \"types of reward hacking\"},\n",
    "                    }\n",
    "                ],\n",
    "            },\n",
    "            {\n",
    "                \"role\": \"tool\",\n",
    "                \"content\": \"reward hacking can be categorized into two types: environment or goal misspecification, and reward tampering\",\n",
    "                \"tool_call_id\": \"1\",\n",
    "            },\n",
    "        ]\n",
    "    )\n",
    "}\n",
    "grade_documents(input)"
   ]
  },
  {
   "cell_type": "markdown",
   "id": "eb147b1d-61ab-48ec-acbb-754f1b0b3363",
   "metadata": {},
   "source": [
    "## Rewrite question"
   ]
  },
  {
   "cell_type": "code",
   "execution_count": 37,
   "id": "9b2e8b29-39a8-41aa-a1be-72bf87468419",
   "metadata": {},
   "outputs": [],
   "source": [
    "REWRITE_PROMPT = (\n",
    "    \"Look at the input and try to reason about the underlying semantic intent / meaning.\\n\"\n",
    "    \"Here is the initial question:\"\n",
    "    \"\\n ------- \\n\"\n",
    "    \"{question}\"\n",
    "    \"\\n ------- \\n\"\n",
    "    \"Formulate an improved question:\"\n",
    ")\n",
    "\n",
    "\n",
    "def rewrite_question(state: MessagesState):\n",
    "    \"\"\"Rewrite the original user question.\"\"\"\n",
    "    messages = state[\"messages\"]\n",
    "    question = messages[0].content\n",
    "    prompt = REWRITE_PROMPT.format(question=question)\n",
    "    response = response_model.invoke([{\"role\": \"user\", \"content\": prompt}])\n",
    "    return {\"messages\": [{\"role\": \"user\", \"content\": response.content}]}"
   ]
  },
  {
   "cell_type": "code",
   "execution_count": 45,
   "id": "bf10c760-c987-4d82-98f1-5f482a68395b",
   "metadata": {},
   "outputs": [
    {
     "name": "stdout",
     "output_type": "stream",
     "text": [
      "Could you explain what microarchitecture analysis is, how it’s performed in CPU design, and why it’s important for evaluating processor performance?\n"
     ]
    }
   ],
   "source": [
    "input = {\n",
    "    \"messages\": convert_to_messages(\n",
    "        [\n",
    "            {\n",
    "                \"role\": \"user\",\n",
    "                # \"content\": \"What does Lilian Weng say about types of reward hacking?\",\n",
    "                \"content\": \"what is microarchitecture analysis?\",\n",
    "            },\n",
    "            {\n",
    "                \"role\": \"assistant\",\n",
    "                \"content\": \"\",\n",
    "                \"tool_calls\": [\n",
    "                    {\n",
    "                        \"id\": \"1\",\n",
    "                        \"name\": \"retrieve_blog_posts\",\n",
    "                        \"args\": {\"query\": \"types of reward hacking\"},\n",
    "                    }\n",
    "                ],\n",
    "            },\n",
    "            {\"role\": \"tool\", \"content\": \"meow\", \"tool_call_id\": \"1\"},\n",
    "        ]\n",
    "    )\n",
    "}\n",
    "\n",
    "response = rewrite_question(input)\n",
    "print(response[\"messages\"][-1][\"content\"])"
   ]
  },
  {
   "cell_type": "markdown",
   "id": "9492ad32-98ab-43e0-9134-c02b610f4da8",
   "metadata": {},
   "source": [
    "## Generate an answer"
   ]
  },
  {
   "cell_type": "code",
   "execution_count": 46,
   "id": "47a05daa-822b-466a-bec3-e04371153b6c",
   "metadata": {},
   "outputs": [],
   "source": [
    "GENERATE_PROMPT = (\n",
    "    \"You are an assistant for question-answering tasks. \"\n",
    "    \"Use the following pieces of retrieved context to answer the question. \"\n",
    "    \"If you don't know the answer, just say that you don't know. \"\n",
    "    \"Use three sentences maximum and keep the answer concise.\\n\"\n",
    "    \"Question: {question} \\n\"\n",
    "    \"Context: {context}\"\n",
    ")\n",
    "\n",
    "\n",
    "def generate_answer(state: MessagesState):\n",
    "    \"\"\"Generate an answer.\"\"\"\n",
    "    question = state[\"messages\"][0].content\n",
    "    context = state[\"messages\"][-1].content\n",
    "    prompt = GENERATE_PROMPT.format(question=question, context=context)\n",
    "    response = response_model.invoke([{\"role\": \"user\", \"content\": prompt}])\n",
    "    return {\"messages\": [response]}"
   ]
  },
  {
   "cell_type": "code",
   "execution_count": 48,
   "id": "489be6fd-fa23-4a4e-9a8f-1ac86b910c80",
   "metadata": {},
   "outputs": [
    {
     "name": "stdout",
     "output_type": "stream",
     "text": [
      "==================================\u001b[1m Ai Message \u001b[0m==================================\n",
      "\n",
      "Microarchitecture analysis is a performance profiling technique that examines how a program interacts with the underlying hardware microarchitecture—such as pipelines, caches, branch predictors, and execution units. In Intel VTune Profiler, the Microarchitecture Exploration viewpoint provides detailed metrics and visualizations of these hardware events. It helps developers identify bottlenecks at the instruction‑level and optimize code for specific CPU features.\n"
     ]
    }
   ],
   "source": [
    "input = {\n",
    "    \"messages\": convert_to_messages(\n",
    "        [\n",
    "            {\n",
    "                \"role\": \"user\",\n",
    "                # \"content\": \"What does Lilian Weng say about types of reward hacking?\",\n",
    "                \"content\": \"what is microarchitecture analysis?\",\n",
    "            },\n",
    "            {\n",
    "                \"role\": \"assistant\",\n",
    "                \"content\": \"\",\n",
    "                \"tool_calls\": [\n",
    "                    {\n",
    "                        \"id\": \"1\",\n",
    "                        \"name\": \"retrieve_blog_posts\",\n",
    "                        \"args\": {\"query\": \"types of reward hacking\"},\n",
    "                    }\n",
    "                ],\n",
    "            },\n",
    "            {\n",
    "                \"role\": \"tool\",\n",
    "                # \"content\": \"reward hacking can be categorized into two types: environment or goal misspecification, and reward tampering\",\n",
    "                \"content\":\"the Microarchitecture Exploration analysis (formerly known as General Exploration) is complete, the\\nVTune Profiler opens the Microarchitecture Exploration viewpoint.\",\n",
    "                \"tool_call_id\": \"1\",\n",
    "            },\n",
    "        ]\n",
    "    )\n",
    "}\n",
    "\n",
    "response = generate_answer(input)\n",
    "response[\"messages\"][-1].pretty_print()"
   ]
  },
  {
   "cell_type": "markdown",
   "id": "4a05d8c3-8191-4d9b-9e3d-44ca03639300",
   "metadata": {},
   "source": [
    "## Assemble the graph"
   ]
  },
  {
   "cell_type": "code",
   "execution_count": 49,
   "id": "30b856be-a3b8-4a14-940c-0450e4063ccd",
   "metadata": {},
   "outputs": [],
   "source": [
    "from langgraph.graph import StateGraph, START, END\n",
    "from langgraph.prebuilt import ToolNode\n",
    "from langgraph.prebuilt import tools_condition\n",
    "\n",
    "workflow = StateGraph(MessagesState)\n",
    "\n",
    "# Define the nodes we will cycle between\n",
    "workflow.add_node(generate_query_or_respond)\n",
    "workflow.add_node(\"retrieve\", ToolNode([retriever_tool]))\n",
    "workflow.add_node(rewrite_question)\n",
    "workflow.add_node(generate_answer)\n",
    "\n",
    "workflow.add_edge(START, \"generate_query_or_respond\")\n",
    "\n",
    "# Decide whether to retrieve\n",
    "workflow.add_conditional_edges(\n",
    "    \"generate_query_or_respond\",\n",
    "    # Assess LLM decision (call `retriever_tool` tool or respond to the user)\n",
    "    tools_condition,\n",
    "    {\n",
    "        # Translate the condition outputs to nodes in our graph\n",
    "        \"tools\": \"retrieve\",\n",
    "        END: END,\n",
    "    },\n",
    ")\n",
    "\n",
    "# Edges taken after the `action` node is called.\n",
    "workflow.add_conditional_edges(\n",
    "    \"retrieve\",\n",
    "    # Assess agent decision\n",
    "    grade_documents,\n",
    ")\n",
    "workflow.add_edge(\"generate_answer\", END)\n",
    "workflow.add_edge(\"rewrite_question\", \"generate_query_or_respond\")\n",
    "\n",
    "# Compile\n",
    "graph = workflow.compile()"
   ]
  },
  {
   "cell_type": "code",
   "execution_count": 50,
   "id": "1b6cf4ed-ef96-48de-af95-216688d33e27",
   "metadata": {},
   "outputs": [
    {
     "data": {
      "image/png": "[encoded data removed]",
      "text/plain": [
       "<langgraph.graph.state.CompiledStateGraph object at 0x74af1818f9e0>"
      ]
     },
     "execution_count": 50,
     "metadata": {},
     "output_type": "execute_result"
    }
   ],
   "source": [
    "graph"
   ]
  },
  {
   "cell_type": "code",
   "execution_count": 52,
   "id": "abc53bf8-41a9-4b59-999d-d0335f5eecc2",
   "metadata": {},
   "outputs": [
    {
     "name": "stdout",
     "output_type": "stream",
     "text": [
      "Update from node generate_query_or_respond\n",
      "==================================\u001b[1m Ai Message \u001b[0m==================================\n",
      "\n",
      "**VTune** (short for **Intel VTune Amplifier**) is a commercial performance‑analysis tool from Intel that helps developers find, diagnose, and fix performance bottlenecks in software. It works on a wide range of platforms (Windows, Linux, macOS) and supports many programming languages (C/C++, Fortran, Java, .NET, Python, etc.).\n",
      "\n",
      "### What VTune does\n",
      "\n",
      "| Feature | What it gives you |\n",
      "|---------|-------------------|\n",
      "| **CPU profiling** | Measures instruction counts, cache misses, branch mispredictions, CPU cycles, and other hardware counters. |\n",
      "| **Hot‑spot analysis** | Identifies the functions, loops, or lines of code that consume the most CPU time. |\n",
      "| **Threading & concurrency** | Detects thread contention, false sharing, lock contention, and parallel scalability issues. |\n",
      "| **Memory analysis** | Shows memory bandwidth, allocation patterns, cache usage, and memory‑access latency. |\n",
      "| **GPU profiling** | (Intel GPU) Provides metrics for compute units, memory bandwidth, and kernel execution times. |\n",
      "| **I/O & networking** | Measures file I/O, network latency, and throughput. |\n",
      "| **Power & energy** | Estimates power consumption and energy usage on supported hardware. |\n",
      "| **Vectorization & SIMD** | Highlights opportunities for SIMD/vector instruction usage and shows current vectorization status. |\n",
      "| **Call‑graph & lineage** | Visualizes call relationships and data flow between functions. |\n",
      "| **Performance reports** | Generates detailed, exportable reports (HTML, PDF, CSV) with actionable recommendations. |\n",
      "\n",
      "### How it’s used\n",
      "\n",
      "1. **Instrumentation** – VTune can automatically instrument your binary or use hardware performance counters for low‑overhead profiling.\n",
      "2. **Data collection** – Run your application under VTune; it records performance data while the program executes.\n",
      "3. **Analysis** – The GUI or command‑line tools present the data in heat maps, call graphs, and metric tables.\n",
      "4. **Optimization** – Use the insights to refactor code, adjust algorithms, improve parallelism, or tune compiler flags.\n",
      "5. **Re‑test** – Re‑profile to verify that changes improved performance.\n",
      "\n",
      "### Typical use cases\n",
      "\n",
      "- **CPU‑bound applications** (e.g., scientific simulations, image processing) to find hot loops and cache‑miss hotspots.\n",
      "- **Parallel programs** (OpenMP, MPI, TBB) to diagnose thread contention and scalability limits.\n",
      "- **Memory‑bound workloads** to identify inefficient memory access patterns.\n",
      "- **Embedded or mobile apps** to optimize for power and thermal constraints.\n",
      "- **GPU‑accelerated code** on Intel GPUs to tune kernel launch parameters and memory usage.\n",
      "\n",
      "### Integration\n",
      "\n",
      "- **IDEs**: Visual Studio, Eclipse, CLion, and others have VTune plug‑ins.\n",
      "- **Command line**: `vtune -collect hotspot -result-dir myresults ./myapp`.\n",
      "- **Continuous integration**: VTune can be scripted to run as part of CI pipelines.\n",
      "\n",
      "### Licensing\n",
      "\n",
      "VTune is a commercial product, but Intel offers a free **VTune Amplifier Lite** edition with limited features for open‑source or academic use.\n",
      "\n",
      "---\n",
      "\n",
      "In short, **VTune is Intel’s flagship performance profiler** that gives developers deep, hardware‑level insight into how their code runs, enabling targeted optimizations that can lead to significant speedups and better resource utilization.\n",
      "\n",
      "\n",
      "\n"
     ]
    }
   ],
   "source": [
    "for chunk in graph.stream(\n",
    "    {\n",
    "        \"messages\": [\n",
    "            {\n",
    "                \"role\": \"user\",\n",
    "                # \"content\": \"What does Lilian Weng say about types of reward hacking?\",\n",
    "                \"content\": \"What is vtune?\",\n",
    "\n",
    "            }\n",
    "        ]\n",
    "    }\n",
    "):\n",
    "    for node, update in chunk.items():\n",
    "        print(\"Update from node\", node)\n",
    "        update[\"messages\"][-1].pretty_print()\n",
    "        print(\"\\n\\n\")"
   ]
  },
  {
   "cell_type": "code",
   "execution_count": null,
   "id": "f4b530c1-9f7e-4aad-985d-8f71fa1c75c1",
   "metadata": {},
   "outputs": [],
   "source": []
  },
  {
   "cell_type": "code",
   "execution_count": null,
   "id": "c826f8b4-1558-4cd6-ba23-dbf75fafbfe6",
   "metadata": {},
   "outputs": [],
   "source": []
  },
  {
   "cell_type": "code",
   "execution_count": null,
   "id": "5b64a591-cd61-4045-bb09-d6f408169296",
   "metadata": {},
   "outputs": [],
   "source": []
  }
 ],
 "metadata": {
  "kernelspec": {
   "display_name": "lan",
   "language": "python",
   "name": "lan"
  },
  "language_info": {
   "codemirror_mode": {
    "name": "ipython",
    "version": 3
   },
   "file_extension": ".py",
   "mimetype": "text/x-python",
   "name": "python",
   "nbconvert_exporter": "python",
   "pygments_lexer": "ipython3",
   "version": "3.12.3"
  }
 },
 "nbformat": 4,
 "nbformat_minor": 5
}
