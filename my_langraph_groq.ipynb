{
 "cells": [
  {
   "cell_type": "code",
   "execution_count": 1,
   "id": "0ddde9df-56f7-4436-aae8-33159b190a8f",
   "metadata": {},
   "outputs": [],
   "source": [
    "# document --> https://langchain-ai.github.io/langgraph/tutorials/rag/langgraph_agentic_rag/#2-create-a-retriever-tool\n",
    "# %%capture --no-stderr\n",
    "# %pip install -U --quiet langgraph \"langchain[openai]\" langchain-community langchain-text-splitters\n"
   ]
  },
  {
   "cell_type": "code",
   "execution_count": 2,
   "id": "d0c5ee8a-a2c7-44b7-9f72-79a78039a57a",
   "metadata": {},
   "outputs": [],
   "source": [
    "import os\n",
    "from dotenv import load_dotenv\n",
    "load_dotenv()\n",
    "os.environ['GROQ_API_KEY']=\"Add your key_here\""
   ]
  },
  {
   "cell_type": "markdown",
   "id": "284bb440-be00-4d3c-ba14-360e2ca6c467",
   "metadata": {},
   "source": [
    "## Online web postloading\n"
   ]
  },
  {
   "cell_type": "code",
   "execution_count": 3,
   "id": "b756ea4a-9894-4677-ace8-28f3a41eb3d9",
   "metadata": {},
   "outputs": [],
   "source": [
    "# from langchain_community.document_loaders import WebBaseLoader\n",
    "\n",
    "# urls = [\n",
    "#     \"https://lilianweng.github.io/posts/2024-11-28-reward-hacking/\",\n",
    "#     \"https://lilianweng.github.io/posts/2024-07-07-hallucination/\",\n",
    "#     \"https://lilianweng.github.io/posts/2024-04-12-diffusion-video/\",\n",
    "# ]\n",
    "\n",
    "# docs = [WebBaseLoader(url).load() for url in urls]"
   ]
  },
  {
   "cell_type": "code",
   "execution_count": 4,
   "id": "03a530d4-1794-4167-8bff-0e9b2ec6cb6e",
   "metadata": {},
   "outputs": [],
   "source": [
    "# docs[0][0].page_content.strip()[:1000]"
   ]
  },
  {
   "cell_type": "code",
   "execution_count": 5,
   "id": "c7edce23-949b-434e-8818-850f094f70ab",
   "metadata": {},
   "outputs": [],
   "source": [
    "# from langchain_text_splitters import RecursiveCharacterTextSplitter\n",
    "\n",
    "# docs_list = [item for sublist in docs for item in sublist]\n",
    "\n",
    "# text_splitter = RecursiveCharacterTextSplitter.from_tiktoken_encoder(\n",
    "#     chunk_size=100, chunk_overlap=50\n",
    "# )\n",
    "# doc_splits = text_splitter.split_documents(docs_list)"
   ]
  },
  {
   "cell_type": "code",
   "execution_count": 6,
   "id": "43c0c384-025b-4951-8c74-c709e1953ad3",
   "metadata": {},
   "outputs": [],
   "source": [
    "# doc_splits[2].page_content.strip()"
   ]
  },
  {
   "cell_type": "markdown",
   "id": "7ff2ebb3-cf4d-46c4-924e-ef2b2621ab1a",
   "metadata": {},
   "source": [
    "## custom pdf loading"
   ]
  },
  {
   "cell_type": "code",
   "execution_count": 7,
   "id": "5ddc5ef0-b02e-4764-9d5b-f15b4ad40f0a",
   "metadata": {},
   "outputs": [],
   "source": [
    "# from langchain_community.document_loaders import PyPDFLoader\n",
    "\n",
    "# pdf_path = \"./vtune-profiler_user-guide_2023.1-766319-773628.pdf\"\n",
    "\n",
    "# # Load the PDF into LangChain Documents\n",
    "# loader = PyPDFLoader(pdf_path)\n",
    "# docs = loader.load()  # List of Document objects"
   ]
  },
  {
   "cell_type": "code",
   "execution_count": 8,
   "id": "965e108e-2819-4b4f-b1e6-2b46f83f7c00",
   "metadata": {},
   "outputs": [],
   "source": [
    "from langchain_community.document_loaders import PyPDFLoader\n",
    "from langchain_text_splitters import RecursiveCharacterTextSplitter\n",
    "\n",
    "pdf_path = \"./vtune-profiler_user-guide_2023.1-766319-773628.pdf\"\n",
    "\n",
    "# Load PDF pages as documents\n",
    "loader = PyPDFLoader(pdf_path)\n",
    "documents = loader.load()  # List of Document objects, each representing a page\n",
    "\n",
    "# Now you can pass this directly to the splitter\n",
    "text_splitter = RecursiveCharacterTextSplitter.from_tiktoken_encoder(\n",
    "    chunk_size=1000, chunk_overlap=100\n",
    ")\n",
    "\n",
    "# Split documents into smaller chunks\n",
    "doc_splits = text_splitter.split_documents(documents)\n",
    "\n",
    "# doc_splits is now a list of smaller Document chunks ready for further use"
   ]
  },
  {
   "cell_type": "code",
   "execution_count": 9,
   "id": "5e6e3d4f-d16c-46c4-87a8-dcbce91e58ef",
   "metadata": {},
   "outputs": [
    {
     "data": {
      "text/plain": [
       "'Build and Install the Sampling Drivers for Linux* Targets ............. 92\\nDebug Information for Linux* Application Binaries....................... 96\\nCompiler Switches for Performance Analysis on Linux* Targets...... 97\\nEnable Linux* Kernel Analysis................................................. 101\\nResolution of Symbol Names for Linux-Loadable Kernel Modules.. 103\\nAnalyze Statically Linked Binaries on Linux* Targets .................. 104\\nSet Up Remote Linux* Target ................................................. 105\\nEmbedded Linux* Targets............................................................... 115\\nConfigure Yocto Project* and VTune Profiler with the Integration\\nLayer .............................................................................. 120\\nConfigure Yocto Project*/Wind River* Linux* and Intel® VTune™\\nProfiler with the Intel System Studio Integration Layer........... 122\\nConfigure Yocto Project* and Intel® VTune™ Profiler with the\\nLinux* Target Package....................................................... 124\\nFreeBSD* Targets ......................................................................... 125\\nSet Up FreeBSD* System....................................................... 128\\nQNX* Targets ............................................................................... 129\\nManaged Code Targets................................................................... 130\\n.NET* Targets....................................................................... 131\\nWindows Store Application Targets .......................................... 133\\nGo* Application Targets ......................................................... 134\\nAndroid* Targets........................................................................... 135\\nBuild and Install Sampling Drivers for Android* Targets.............. 137\\nSet Up Android* System ........................................................ 138\\nEnable Java* Analysis on Android* System............................... 139\\nPrepare an Android* Application for Analysis ............................ 142\\nAnalyze Unplugged Devices.................................................... 143\\nSearch Directories for Android* Targets ................................... 144\\nIntel® Xeon Phi™ Processor Targets................................................... 144\\nTargets in Virtualized Environments ................................................. 147\\nProfile Targets on a VMware* Guest System ............................. 148\\nProfile Targets on a Parallels* Guest System ............................. 149\\nProfile Targets on a KVM* Guest System .................................. 150\\nProfile Targets on a Xen* Virtualization Platform........................ 159\\nProfile Targets in the Hyper-V* Environment............................. 160\\nTargets in a Cloud Environment....................................................... 161\\nArbitrary Targets........................................................................... 161\\nEmbedded System Targets ............................................................. 163\\nAnalyze Performance ............................................................................. 164\\nUser-Mode Sampling and Tracing Collection ...................................... 165\\nHardware Event-based Sampling Collection....................................... 166\\nAllow Multiple Runs or Multiplex Events.................................... 168\\nHardware Event-based Sampling Collection with Stacks ............. 169\\nPerformance Snapshot................................................................... 173\\nAlgorithm Group ........................................................................... 175\\nHotspots Analysis for CPU Usage Issues ................................... 175\\nAnomaly Detection Analysis (preview) ..................................... 182\\nMemory Consumption Analysis ............................................... 190\\nMicroarchitecture Analysis Group..................................................... 192\\nMicroarchitecture Exploration Analysis for Hardware Issues ........ 192\\nMemory Access Analysis for Cache Misses and High Bandwidth\\nIssues ............................................................................. 201\\nParallelism Analysis Group.............................................................. 213\\nThreading Analysis................................................................ 213\\nHPC Performance Characterization Analysis ............................. 222\\nContents\\n3'"
      ]
     },
     "execution_count": 9,
     "metadata": {},
     "output_type": "execute_result"
    }
   ],
   "source": [
    "doc_splits[2].page_content.strip()"
   ]
  },
  {
   "cell_type": "markdown",
   "id": "0a1e48b4-a102-44df-80ca-1115223dbba4",
   "metadata": {},
   "source": [
    "## creating a DB"
   ]
  },
  {
   "cell_type": "code",
   "execution_count": 10,
   "id": "6c7489c1-1130-4e05-aa0a-41ef8eaec8b1",
   "metadata": {
    "scrolled": true
   },
   "outputs": [],
   "source": [
    "# from langchain_community.embeddings import HuggingFaceEmbeddings\n",
    "# from langchain_chroma import Chroma\n",
    "\n",
    "\n",
    "# # Create the embedding model wrapper\n",
    "# embedding_model = HuggingFaceEmbeddings(model_name='sentence-transformers/all-MiniLM-L6-v2')\n",
    "\n",
    "# vectorstore = Chroma.from_documents(\n",
    "#     documents=doc_splits,\n",
    "#     embedding=embedding_model,\n",
    "#     persist_directory=\"vector_db\"  # persisted automatically\n",
    "# )\n"
   ]
  },
  {
   "cell_type": "code",
   "execution_count": 11,
   "id": "40fc5649-fb02-4b10-825e-fa5821e92f71",
   "metadata": {},
   "outputs": [],
   "source": [
    "# retriever = vectorstore.as_retriever(search_kwargs={\"k\": 3})"
   ]
  },
  {
   "cell_type": "markdown",
   "id": "d0911cdb-72b3-4688-b5e7-e03a751251df",
   "metadata": {},
   "source": [
    "## want to load DB directly"
   ]
  },
  {
   "cell_type": "code",
   "execution_count": 12,
   "id": "8f06e2b3-205a-444d-900c-3a20f624861b",
   "metadata": {},
   "outputs": [
    {
     "name": "stderr",
     "output_type": "stream",
     "text": [
      "C:\\Users\\jkamisex\\AppData\\Local\\Temp\\ipykernel_37648\\364048250.py:4: LangChainDeprecationWarning: The class `HuggingFaceEmbeddings` was deprecated in LangChain 0.2.2 and will be removed in 1.0. An updated version of the class exists in the `langchain-huggingface package and should be used instead. To use it run `pip install -U `langchain-huggingface` and import as `from `langchain_huggingface import HuggingFaceEmbeddings``.\n",
      "  embedding_model = HuggingFaceEmbeddings(model_name='sentence-transformers/all-MiniLM-L6-v2')\n"
     ]
    }
   ],
   "source": [
    "from langchain_chroma import Chroma\n",
    "from langchain_community.embeddings import HuggingFaceEmbeddings\n",
    "\n",
    "embedding_model = HuggingFaceEmbeddings(model_name='sentence-transformers/all-MiniLM-L6-v2')\n",
    "vectorstore = Chroma(\n",
    "    embedding_function=embedding_model,\n",
    "    persist_directory=\"vector_db\"\n",
    ")\n",
    "\n",
    "retriever = vectorstore.as_retriever(search_kwargs={\"k\": 1})\n"
   ]
  },
  {
   "cell_type": "markdown",
   "id": "b2b320b0-b86d-4e5a-8977-499511ff9f29",
   "metadata": {},
   "source": [
    "## retrevial tool"
   ]
  },
  {
   "cell_type": "code",
   "execution_count": 13,
   "id": "cb6ad927-7677-4959-a8dd-30fabf49d5e9",
   "metadata": {},
   "outputs": [],
   "source": [
    "from langchain_core.tools.retriever import create_retriever_tool\n",
    "\n",
    "retriever_tool = create_retriever_tool(\n",
    "    retriever,\n",
    "    \"retrieve_blog_posts\",\n",
    "    \"Search and return relavent information.\",\n",
    ")"
   ]
  },
  {
   "cell_type": "markdown",
   "id": "f29bbd64-2942-411b-a819-00d6686e89a5",
   "metadata": {},
   "source": [
    "## Generate query"
   ]
  },
  {
   "cell_type": "code",
   "execution_count": 14,
   "id": "2fdecb38-8482-44c3-9b2e-b69737d2dfd1",
   "metadata": {},
   "outputs": [],
   "source": [
    "from langchain_groq import ChatGroq\n",
    "response_model = ChatGroq(\n",
    "    model=\"openai/gpt-oss-20b\",\n",
    "    temperature=0,\n",
    "    max_tokens=None,\n",
    "    # reasoning_format=\"parsed\", # not a thinking model\n",
    "    timeout=None,\n",
    "    max_retries=2,\n",
    "    # other params...\n",
    ")"
   ]
  },
  {
   "cell_type": "code",
   "execution_count": 15,
   "id": "a266ff3e-0f9e-40f5-8c63-410186ffa0e2",
   "metadata": {},
   "outputs": [],
   "source": [
    "# from langchain_core.output_parsers import StrOutputParser\n",
    "# from langchain_core.runnables import RunnablePassthrough\n",
    "\n",
    "# # 4️⃣ Define your custom RAG prompt (instead of using LangChain Hub)\n",
    "# prompt = ChatPromptTemplate.from_template(\"\"\"\n",
    "# You are a helpful assistant. Use the context below to answer the user's question.\n",
    "# If you don't know the answer from the context, say you don't know.\n",
    "\n",
    "# Context:\n",
    "# {context}\n",
    "\n",
    "# Question:\n",
    "# {question}\n",
    "\n",
    "# Answer:\n",
    "# \"\"\")\n",
    "\n",
    "# # 5️⃣ Helper to format retrieved documents\n",
    "# def format_docs(docs):\n",
    "#     return \"\\n\\n\".join(doc.page_content for doc in docs)\n",
    "\n",
    "# # 6️⃣ Build the LCEL chain manually\n",
    "# qa_chain = (\n",
    "#     {\n",
    "#         \"context\": retriever | format_docs,\n",
    "#         \"question\": RunnablePassthrough(),\n",
    "#     }\n",
    "#     | prompt\n",
    "#     | response_model\n",
    "#     | StrOutputParser()\n",
    "# )\n",
    "\n",
    "# # 7️⃣ Ask a question\n",
    "# question = \"vtune displays [Skipped stack frame(s)] in the grid panes.\"\n",
    "# answer = qa_chain.invoke(question)\n",
    "\n",
    "# print(\"\\n💬 Question:\", question)\n",
    "# print(\"🧠 Answer:\", answer)"
   ]
  },
  {
   "cell_type": "code",
   "execution_count": 16,
   "id": "fa950200-3dec-4687-9f1b-cc7f7e4b793d",
   "metadata": {},
   "outputs": [],
   "source": [
    "from langchain_core.output_parsers import StrOutputParser\n",
    "from langchain_core.runnables import RunnablePassthrough\n",
    "from langgraph.graph import MessagesState\n",
    "from langchain.chat_models import init_chat_model\n",
    "from langchain_core.prompts import ChatPromptTemplate\n",
    "from langchain_core.messages.ai import AIMessage\n",
    "\n",
    "def generate_query_or_respond(state: MessagesState):\n",
    "    \"\"\"Call the model to generate a response based on the current state. Given\n",
    "    the question, it will decide to retrieve using the retriever tool, or simply respond to the user.\n",
    "    \"\"\"\n",
    "    # 4️⃣ Define your custom RAG prompt (instead of using LangChain Hub)\n",
    "    prompt = ChatPromptTemplate.from_template(\"\"\"\n",
    "    You are a helpful assistant. Use the context below to answer the user's question.\n",
    "    If you don't know the answer from the context, say you don't know.\n",
    "    \n",
    "    Context:\n",
    "    {context}\n",
    "    \n",
    "    Question:\n",
    "    {question}\n",
    "    \n",
    "    Answer:\n",
    "    \"\"\")\n",
    "    \n",
    "    # 5️⃣ Helper to format retrieved documents\n",
    "    def format_docs(docs):\n",
    "        return \"\\n\\n\".join(doc.page_content for doc in docs)\n",
    "    \n",
    "    # 6️⃣ Build the LCEL chain manually\n",
    "    qa_chain = (\n",
    "        {\n",
    "            \"context\": retriever | format_docs,\n",
    "            \"question\": RunnablePassthrough(),\n",
    "        }\n",
    "        | prompt\n",
    "        | response_model\n",
    "        | StrOutputParser()\n",
    "    )\n",
    "    \n",
    "    # 7️⃣ Ask a question\n",
    "    respon = qa_chain.invoke(state['messages'][0]['content'])\n",
    "    answer= AIMessage(content=respon)\n",
    "    # response = (\n",
    "    #     response_model\n",
    "    #     .bind_tools([retriever_tool]).invoke(state[\"messages\"])\n",
    "    # )\n",
    "    return {\"messages\": [answer]}"
   ]
  },
  {
   "cell_type": "code",
   "execution_count": 17,
   "id": "619b7929-aec1-44fe-b25c-56389a7db98f",
   "metadata": {},
   "outputs": [
    {
     "name": "stdout",
     "output_type": "stream",
     "text": [
      "==================================\u001b[1m Ai Message \u001b[0m==================================\n",
      "\n",
      "**Answer**\n",
      "\n",
      "In VTune the text **“[Skipped stack frame(s)]”** is shown when the profiler has omitted one or more frames from the call‑stack display.  \n",
      "This happens for a few reasons:\n",
      "\n",
      "| Reason | What it means | How to see the skipped frames |\n",
      "|--------|---------------|------------------------------|\n",
      "| **Stack depth limit** | VTune limits the number of frames shown in a view (e.g., 10‑20 frames) to keep the grid readable. | Increase the *Maximum stack depth* in the **View → Options → Stack** dialog, or switch to a *Chain* layout that shows more frames. |\n",
      "| **Filtering** | You may have a filter active (e.g., “Show only user functions” or a metric filter) that hides certain frames. | Turn off or adjust the filter in the **Filter** toolbar. |\n",
      "| **System‑function suppression** | System or library frames can be suppressed to reduce noise. | Enable *Show system functions* in the **View → Options → Stack** dialog. |\n",
      "| **Large call‑stack** | Very deep or recursive calls can exceed the grid’s capacity. | Expand the grid row (double‑click the row header) or use the **Caller/Callee** pane to drill down. |\n",
      "\n",
      "**Quick fix**\n",
      "\n",
      "1. Open the **View → Options → Stack** dialog.  \n",
      "2. Increase *Maximum stack depth* or uncheck *Suppress system functions*.  \n",
      "3. Apply the changes – the skipped frames will now appear in the grid.\n",
      "\n",
      "If you still see “[Skipped stack frame(s)]” after adjusting these settings, it usually means the stack is simply too deep for the current view; use the **Caller/Callee** pane or the **Bottom‑up** view to explore further.\n"
     ]
    }
   ],
   "source": [
    "input = {\n",
    "    \"messages\": [\n",
    "        {\n",
    "            \"role\": \"user\",\n",
    "            # \"content\": \"What does Lilian Weng say about types of reward hacking?\",\n",
    "            \"content\":\"vtune displays [Skipped stack frame(s)] in the grid panes.\",\n",
    "        }\n",
    "    ]\n",
    "}\n",
    "generate_query_or_respond(input)[\"messages\"][-1].pretty_print()"
   ]
  },
  {
   "cell_type": "code",
   "execution_count": 18,
   "id": "2dd33f9e-67c7-4a4c-88c6-be20cbfb3745",
   "metadata": {},
   "outputs": [],
   "source": [
    "from langgraph.graph import MessagesState\n",
    "from langchain.chat_models import init_chat_model\n",
    "\n",
    "\n",
    "def generate_query_or_respond(state: MessagesState):\n",
    "    \"\"\"Call the model to generate a response based on the current state. Given\n",
    "    the question, it will decide to retrieve using the retriever tool, or simply respond to the user.\n",
    "    \"\"\"\n",
    "    response = (\n",
    "        response_model\n",
    "        .bind_tools([retriever_tool]).invoke(state[\"messages\"])\n",
    "    )\n",
    "    return {\"messages\": [response]}"
   ]
  },
  {
   "cell_type": "code",
   "execution_count": 19,
   "id": "9857def7-4eac-4d6b-b50e-645073cccb54",
   "metadata": {},
   "outputs": [
    {
     "data": {
      "text/plain": [
       "AIMessage(content='Hello! How can I help you today?', additional_kwargs={'reasoning_content': 'The user says \"hello!\" We should respond politely. No tool needed.'}, response_metadata={'token_usage': {'completion_tokens': 34, 'prompt_tokens': 131, 'total_tokens': 165, 'completion_time': 0.033120911, 'prompt_time': 0.006407044, 'queue_time': 0.047747386, 'total_time': 0.039527955}, 'model_name': 'openai/gpt-oss-20b', 'system_fingerprint': 'fp_e99e93f2ac', 'service_tier': 'on_demand', 'finish_reason': 'stop', 'logprobs': None, 'model_provider': 'groq'}, id='lc_run--486a4f34-8a27-4d67-b463-b0bde0e0d18f-0', usage_metadata={'input_tokens': 131, 'output_tokens': 34, 'total_tokens': 165})"
      ]
     },
     "execution_count": 19,
     "metadata": {},
     "output_type": "execute_result"
    }
   ],
   "source": [
    "input = {\"messages\": [{\"role\": \"user\", \"content\": \"hello!\"}]}\n",
    "generate_query_or_respond(input)[\"messages\"][-1]"
   ]
  },
  {
   "cell_type": "markdown",
   "id": "24bc5027-9292-42c9-9cb2-48be56f70dd2",
   "metadata": {},
   "source": [
    "## Grade documents"
   ]
  },
  {
   "cell_type": "code",
   "execution_count": 20,
   "id": "136f2e90-db17-41d8-bc33-a2145410515c",
   "metadata": {},
   "outputs": [],
   "source": [
    "from pydantic import BaseModel, Field\n",
    "from typing import Literal\n",
    "\n",
    "GRADE_PROMPT = (\n",
    "    \"You are a grader assessing relevance of a retrieved document to a user question. \\n \"\n",
    "    \"Here is the retrieved document: \\n\\n {context} \\n\\n\"\n",
    "    \"Here is the user question: {question} \\n\"\n",
    "    \"If the document contains keyword(s) or semantic meaning related to the user question, grade it as relevant. \\n\"\n",
    "    \"Give a binary score 'yes' or 'no' score to indicate whether the document is relevant to the question.\"\n",
    ")\n",
    "\n",
    "\n",
    "class GradeDocuments(BaseModel):\n",
    "    \"\"\"Grade documents using a binary score for relevance check.\"\"\"\n",
    "\n",
    "    binary_score: str = Field(\n",
    "        description=\"Relevance score: 'yes' if relevant, or 'no' if not relevant\"\n",
    "    )\n",
    "\n",
    "\n",
    "# grader_model = init_chat_model(\"openai:gpt-4.1\", temperature=0)  not using openai\n",
    "grader_model =ChatGroq(\n",
    "    model=\"openai/gpt-oss-20b\",\n",
    "    temperature=0,\n",
    "    max_tokens=None,\n",
    "    # reasoning_format=\"parsed\", # not a thinking model\n",
    "    timeout=None,\n",
    "    max_retries=2,\n",
    "    # other params...\n",
    ")\n",
    "\n",
    "\n",
    "def grade_documents(\n",
    "    state: MessagesState,\n",
    ") -> Literal[\"generate_answer\", \"rewrite_question\"]:\n",
    "    \"\"\"Determine whether the retrieved documents are relevant to the question.\"\"\"\n",
    "    question = state[\"messages\"][0].content\n",
    "    context = state[\"messages\"][-1].content\n",
    "\n",
    "    prompt = GRADE_PROMPT.format(question=question, context=context)\n",
    "    response = (\n",
    "        grader_model\n",
    "        .with_structured_output(GradeDocuments).invoke(\n",
    "            [{\"role\": \"user\", \"content\": prompt}]\n",
    "        )\n",
    "    )\n",
    "    score = response.binary_score\n",
    "\n",
    "    if score == \"yes\":\n",
    "        return \"generate_answer\"\n",
    "    else:\n",
    "        return \"rewrite_question\""
   ]
  },
  {
   "cell_type": "code",
   "execution_count": 21,
   "id": "4532ea8b-9921-4c07-b0a3-c219280f924b",
   "metadata": {},
   "outputs": [
    {
     "data": {
      "text/plain": [
       "'rewrite_question'"
      ]
     },
     "execution_count": 21,
     "metadata": {},
     "output_type": "execute_result"
    }
   ],
   "source": [
    "from langchain_core.messages import convert_to_messages\n",
    "\n",
    "input = {\n",
    "    \"messages\": convert_to_messages(\n",
    "        [\n",
    "            {\n",
    "                \"role\": \"user\",\n",
    "                \"content\": \"What does Lilian Weng say about types of reward hacking?\",\n",
    "            },\n",
    "            {\n",
    "                \"role\": \"assistant\",\n",
    "                \"content\": \"\",\n",
    "                \"tool_calls\": [\n",
    "                    {\n",
    "                        \"id\": \"1\",\n",
    "                        \"name\": \"retrieve_blog_posts\",\n",
    "                        \"args\": {\"query\": \"types of reward hacking\"},\n",
    "                    }\n",
    "                ],\n",
    "            },\n",
    "            {\"role\": \"tool\", \"content\": \"meow\", \"tool_call_id\": \"1\"},\n",
    "        ]\n",
    "    )\n",
    "}\n",
    "grade_documents(input)"
   ]
  },
  {
   "cell_type": "code",
   "execution_count": 22,
   "id": "c12ad34a-f74c-4a14-9a2d-ed6bfd869dc1",
   "metadata": {},
   "outputs": [
    {
     "data": {
      "text/plain": [
       "'generate_answer'"
      ]
     },
     "execution_count": 22,
     "metadata": {},
     "output_type": "execute_result"
    }
   ],
   "source": [
    "input = {\n",
    "    \"messages\": convert_to_messages(\n",
    "        [\n",
    "            {\n",
    "                \"role\": \"user\",\n",
    "                \"content\": \"What does Lilian Weng say about types of reward hacking?\",\n",
    "            },\n",
    "            {\n",
    "                \"role\": \"assistant\",\n",
    "                \"content\": \"\",\n",
    "                \"tool_calls\": [\n",
    "                    {\n",
    "                        \"id\": \"1\",\n",
    "                        \"name\": \"retrieve_blog_posts\",\n",
    "                        \"args\": {\"query\": \"types of reward hacking\"},\n",
    "                    }\n",
    "                ],\n",
    "            },\n",
    "            {\n",
    "                \"role\": \"tool\",\n",
    "                \"content\": \"reward hacking can be categorized into two types: environment or goal misspecification, and reward tampering\",\n",
    "                \"tool_call_id\": \"1\",\n",
    "            },\n",
    "        ]\n",
    "    )\n",
    "}\n",
    "grade_documents(input)"
   ]
  },
  {
   "cell_type": "markdown",
   "id": "eb147b1d-61ab-48ec-acbb-754f1b0b3363",
   "metadata": {},
   "source": [
    "## Rewrite question"
   ]
  },
  {
   "cell_type": "code",
   "execution_count": 35,
   "id": "9b2e8b29-39a8-41aa-a1be-72bf87468419",
   "metadata": {},
   "outputs": [],
   "source": [
    "REWRITE_PROMPT = (\n",
    "    \"Look at the input and try to reason about the underlying semantic intent / meaning.\\n\"\n",
    "    \"Here is the initial question:\"\n",
    "    \"\\n ------- \\n\"\n",
    "    \"{question}\"\n",
    "    \"\\n ------- \\n\"\n",
    "    \"Formulate an improved question:\"\n",
    ")\n",
    "\n",
    "\n",
    "def rewrite_question(state: MessagesState):\n",
    "    \"\"\"Rewrite the original user question.\"\"\"\n",
    "    messages = state[\"messages\"]\n",
    "    question = messages[0].content\n",
    "    prompt = REWRITE_PROMPT.format(question=question)\n",
    "    response = response_model.invoke([{\"role\": \"user\", \"content\": prompt}])\n",
    "    print(\"UPDATED QUESTION:\",response.content)\n",
    "    return {\"messages\": [{\"role\": \"user\", \"content\": response.content}]}"
   ]
  },
  {
   "cell_type": "code",
   "execution_count": 36,
   "id": "bf10c760-c987-4d82-98f1-5f482a68395b",
   "metadata": {},
   "outputs": [
    {
     "name": "stdout",
     "output_type": "stream",
     "text": [
      "UPDATED QUESTION: Could you explain what microarchitecture analysis is, how it’s performed in CPU design, and why it’s important for evaluating processor performance?\n",
      "Could you explain what microarchitecture analysis is, how it’s performed in CPU design, and why it’s important for evaluating processor performance?\n"
     ]
    }
   ],
   "source": [
    "input = {\n",
    "    \"messages\": convert_to_messages(\n",
    "        [\n",
    "            {\n",
    "                \"role\": \"user\",\n",
    "                # \"content\": \"What does Lilian Weng say about types of reward hacking?\",\n",
    "                \"content\": \"what is microarchitecture analysis?\",\n",
    "            },\n",
    "            {\n",
    "                \"role\": \"assistant\",\n",
    "                \"content\": \"\",\n",
    "                \"tool_calls\": [\n",
    "                    {\n",
    "                        \"id\": \"1\",\n",
    "                        \"name\": \"retrieve_blog_posts\",\n",
    "                        \"args\": {\"query\": \"types of reward hacking\"},\n",
    "                    }\n",
    "                ],\n",
    "            },\n",
    "            {\"role\": \"tool\", \"content\": \"meow\", \"tool_call_id\": \"1\"},\n",
    "        ]\n",
    "    )\n",
    "}\n",
    "\n",
    "response = rewrite_question(input)\n",
    "print(response[\"messages\"][-1][\"content\"])"
   ]
  },
  {
   "cell_type": "markdown",
   "id": "9492ad32-98ab-43e0-9134-c02b610f4da8",
   "metadata": {},
   "source": [
    "## Generate an answer"
   ]
  },
  {
   "cell_type": "code",
   "execution_count": 37,
   "id": "47a05daa-822b-466a-bec3-e04371153b6c",
   "metadata": {},
   "outputs": [],
   "source": [
    "GENERATE_PROMPT = (\n",
    "    \"You are an assistant for question-answering tasks. \"\n",
    "    \"Use the following pieces of retrieved context to answer the question. \"\n",
    "    \"If you don't know the answer, just say that you don't know. \"\n",
    "    \"Use three sentences maximum and keep the answer concise.\\n\"\n",
    "    \"Question: {question} \\n\"\n",
    "    \"Context: {context}\"\n",
    ")\n",
    "\n",
    "\n",
    "def generate_answer(state: MessagesState):\n",
    "    \"\"\"Generate an answer.\"\"\"\n",
    "    question = state[\"messages\"][0].content\n",
    "    context = state[\"messages\"][-1].content\n",
    "    prompt = GENERATE_PROMPT.format(question=question, context=context)\n",
    "    response = response_model.invoke([{\"role\": \"user\", \"content\": prompt}])\n",
    "    return {\"messages\": [response]}"
   ]
  },
  {
   "cell_type": "code",
   "execution_count": 38,
   "id": "489be6fd-fa23-4a4e-9a8f-1ac86b910c80",
   "metadata": {},
   "outputs": [
    {
     "name": "stdout",
     "output_type": "stream",
     "text": [
      "==================================\u001b[1m Ai Message \u001b[0m==================================\n",
      "\n",
      "Microarchitecture analysis is a performance profiling mode in Intel VTune that examines low‑level hardware behavior—such as instruction throughput, cache usage, branch prediction, and pipeline stalls. It focuses on the microarchitectural details of the processor to pinpoint bottlenecks that affect execution speed. In VTune, this analysis is accessed through the Microarchitecture Exploration viewpoint.\n"
     ]
    }
   ],
   "source": [
    "input = {\n",
    "    \"messages\": convert_to_messages(\n",
    "        [\n",
    "            {\n",
    "                \"role\": \"user\",\n",
    "                # \"content\": \"What does Lilian Weng say about types of reward hacking?\",\n",
    "                \"content\": \"what is microarchitecture analysis?\",\n",
    "            },\n",
    "            {\n",
    "                \"role\": \"assistant\",\n",
    "                \"content\": \"\",\n",
    "                \"tool_calls\": [\n",
    "                    {\n",
    "                        \"id\": \"1\",\n",
    "                        \"name\": \"retrieve_blog_posts\",\n",
    "                        \"args\": {\"query\": \"types of reward hacking\"},\n",
    "                    }\n",
    "                ],\n",
    "            },\n",
    "            {\n",
    "                \"role\": \"tool\",\n",
    "                # \"content\": \"reward hacking can be categorized into two types: environment or goal misspecification, and reward tampering\",\n",
    "                \"content\":\"the Microarchitecture Exploration analysis (formerly known as General Exploration) is complete, the\\nVTune Profiler opens the Microarchitecture Exploration viewpoint.\",\n",
    "                \"tool_call_id\": \"1\",\n",
    "            },\n",
    "        ]\n",
    "    )\n",
    "}\n",
    "\n",
    "response = generate_answer(input)\n",
    "response[\"messages\"][-1].pretty_print()"
   ]
  },
  {
   "cell_type": "markdown",
   "id": "4a05d8c3-8191-4d9b-9e3d-44ca03639300",
   "metadata": {},
   "source": [
    "## Assemble the graph"
   ]
  },
  {
   "cell_type": "code",
   "execution_count": 39,
   "id": "30b856be-a3b8-4a14-940c-0450e4063ccd",
   "metadata": {},
   "outputs": [],
   "source": [
    "from langgraph.graph import StateGraph, START, END\n",
    "from langgraph.prebuilt import ToolNode\n",
    "from langgraph.prebuilt import tools_condition\n",
    "\n",
    "workflow = StateGraph(MessagesState)\n",
    "\n",
    "# Define the nodes we will cycle between\n",
    "workflow.add_node(generate_query_or_respond)\n",
    "workflow.add_node(\"retrieve\", ToolNode([retriever_tool]))\n",
    "workflow.add_node(rewrite_question)\n",
    "workflow.add_node(generate_answer)\n",
    "\n",
    "workflow.add_edge(START, \"generate_query_or_respond\")\n",
    "\n",
    "# Decide whether to retrieve\n",
    "workflow.add_conditional_edges(\n",
    "    \"generate_query_or_respond\",\n",
    "    # Assess LLM decision (call `retriever_tool` tool or respond to the user)\n",
    "    tools_condition,\n",
    "    {\n",
    "        # Translate the condition outputs to nodes in our graph\n",
    "        \"tools\": \"retrieve\",\n",
    "        END: END,\n",
    "    },\n",
    ")\n",
    "\n",
    "# Edges taken after the `action` node is called.\n",
    "workflow.add_conditional_edges(\n",
    "    \"retrieve\",\n",
    "    # Assess agent decision\n",
    "    grade_documents,\n",
    ")\n",
    "workflow.add_edge(\"generate_answer\", END)\n",
    "workflow.add_edge(\"rewrite_question\", \"generate_query_or_respond\")\n",
    "\n",
    "# Compile\n",
    "graph = workflow.compile()"
   ]
  },
  {
   "cell_type": "code",
   "execution_count": 40,
   "id": "1b6cf4ed-ef96-48de-af95-216688d33e27",
   "metadata": {},
   "outputs": [
    {
     "data": {
      "image/png": "[encoded data removed]",
      "text/plain": [
       "<langgraph.graph.state.CompiledStateGraph object at 0x0000024533089050>"
      ]
     },
     "execution_count": 40,
     "metadata": {},
     "output_type": "execute_result"
    }
   ],
   "source": [
    "graph"
   ]
  },
  {
   "cell_type": "code",
   "execution_count": 42,
   "id": "abc53bf8-41a9-4b59-999d-d0335f5eecc2",
   "metadata": {},
   "outputs": [
    {
     "name": "stdout",
     "output_type": "stream",
     "text": [
      "Update from node generate_query_or_respond\n",
      "==================================\u001b[1m Ai Message \u001b[0m==================================\n",
      "\n",
      "**VTune Amplifier GUI hangs or crashes – quick‑start troubleshooting guide**\n",
      "\n",
      "Below is a step‑by‑step checklist that covers the most common causes and fixes.  \n",
      "Feel free to skip the steps that don’t apply to your environment.\n",
      "\n",
      "---\n",
      "\n",
      "## 1. Verify System & Software Requirements\n",
      "\n",
      "| Item | Typical Requirement | What to Check |\n",
      "|------|---------------------|---------------|\n",
      "| OS | Windows 10/11 (64‑bit) or Linux (x86‑64) | `winver` or `uname -a` |\n",
      "| Java | 8‑11 (bundled with VTune) | `java -version` |\n",
      "| .NET (Windows) | 4.7+ | `reg query HKLM\\SOFTWARE\\Microsoft\\NET Framework Setup\\NDP\\v4\\Full /v Release` |\n",
      "| GPU drivers | Latest (Intel/AMD/NVIDIA) | Device Manager → Display adapters → Update driver |\n",
      "| RAM | ≥ 8 GB (16 GB recommended for large workloads) | Task Manager → Performance → Memory |\n",
      "| Disk space | ≥ 5 GB free (for temp files) | `fsutil volume diskfree C:` |\n",
      "\n",
      "If any of these are out of spec, update or install the missing component.\n",
      "\n",
      "---\n",
      "\n",
      "## 2. Check for Known Compatibility Issues\n",
      "\n",
      "| Platform | Known issue | Work‑around |\n",
      "|----------|-------------|-------------|\n",
      "| Windows 10 1903/1909 | GUI hangs on startup | Disable GPU acceleration (`VTUNE_GUI_DISABLE_GPU=1`) |\n",
      "| Windows 11 | Crash after selecting “New Session” | Run VTune as **Administrator** |\n",
      "| Linux (Ubuntu 20.04) | Crash when opening “Analysis” tab | Install `libgl1-mesa-glx` and `libgl1-mesa-dri` |\n",
      "| Intel GPU | Crash on “Performance” view | Update Intel Graphics Driver to the latest version |\n",
      "\n",
      "> **Tip:** Search the Intel Community or the *Release Notes* for your exact VTune version.\n",
      "\n",
      "---\n",
      "\n",
      "## 3. Run VTune in “Safe” Mode\n",
      "\n",
      "1. **Disable GPU acceleration**  \n",
      "   ```cmd\n",
      "   set VTUNE_GUI_DISABLE_GPU=1\n",
      "   ```\n",
      "2. **Run as Administrator** (Windows) or with `sudo` (Linux).  \n",
      "3. **Start VTune** from a clean user profile (create a temporary user account).  \n",
      "\n",
      "If the GUI opens, the problem is likely a driver or user‑profile conflict.\n",
      "\n",
      "---\n",
      "\n",
      "## 4. Inspect Log Files\n",
      "\n",
      "VTune writes logs to:\n",
      "\n",
      "- **Windows:** `%USERPROFILE%\\.vtune\\logs\\`  \n",
      "- **Linux:** `~/.vtune/logs/`\n",
      "\n",
      "Open the most recent `vtune_gui.log` and look for:\n",
      "\n",
      "- `Exception` or `Segmentation fault`\n",
      "- `Out of memory` messages\n",
      "- `Failed to load module` (DLL or shared object)\n",
      "\n",
      "> **Action:** If you see a specific DLL name, try reinstalling that component or updating the OS.\n",
      "\n",
      "---\n",
      "\n",
      "## 5. Update / Re‑install VTune\n",
      "\n",
      "1. **Uninstall** the current VTune package.  \n",
      "2. **Delete** the `.vtune` folder in your home directory (back it up first).  \n",
      "3. **Download** the latest installer from Intel’s website.  \n",
      "4. **Install** with default options.  \n",
      "\n",
      "> **Why?** A fresh install removes corrupted configuration files and ensures all dependencies are correctly registered.\n",
      "\n",
      "---\n",
      "\n",
      "## 6. Check for Conflicting Software\n",
      "\n",
      "| Software | Why it matters | How to test |\n",
      "|----------|----------------|-------------|\n",
      "| Antivirus / Endpoint Protection | May block VTune’s DLLs | Temporarily disable the antivirus and try again |\n",
      "| GPU‑accelerated applications (e.g., CUDA, OpenCL) | Can interfere with VTune’s GPU queries | Close all GPU‑heavy apps |\n",
      "| Virtualization (VMware, Hyper‑V) | VTune may not work inside a VM | Run on a bare‑metal machine |\n",
      "\n",
      "---\n",
      "\n",
      "## 7. Use the Command‑Line Interface (CLI) as a Work‑Around\n",
      "\n",
      "If the GUI is unusable, you can still profile:\n",
      "\n",
      "```bash\n",
      "# Create a new session\n",
      "vtune -collect hotspots -result-dir C:\\VTuneResults myapp.exe\n",
      "\n",
      "# Open the results in the GUI later\n",
      "vtune -open C:\\VTuneResults\n",
      "```\n",
      "\n",
      "The CLI is more robust and can help you isolate whether the issue is GUI‑specific.\n",
      "\n",
      "---\n",
      "\n",
      "## 8. Gather Diagnostic Data for Intel Support\n",
      "\n",
      "If the problem persists, collect the following:\n",
      "\n",
      "1. **VTune version** (`vtune -version`)\n",
      "2. **OS version** (`winver` or `uname -a`)\n",
      "3. **Hardware specs** (CPU, GPU, RAM)\n",
      "4. **Log files** (`vtune_gui.log`, `vtune.log`)\n",
      "5. **Reproduction steps** (exact sequence that triggers the crash)\n",
      "\n",
      "Send this to Intel’s support portal or the community forum.\n",
      "\n",
      "---\n",
      "\n",
      "## 9. Quick‑Fix Checklist (One‑liner)\n",
      "\n",
      "```cmd\n",
      "# Windows\n",
      "set VTUNE_GUI_DISABLE_GPU=1\n",
      "start \"\" \"C:\\Program Files (x86)\\Intel\\VTune Amplifier 2024.1\\bin\\vtune.exe\"\n",
      "```\n",
      "\n",
      "If the GUI still hangs, try:\n",
      "\n",
      "```cmd\n",
      "# Reinstall\n",
      "msiexec /x {GUID} /qn\n",
      "# (Replace {GUID} with the VTune product GUID)\n",
      "```\n",
      "\n",
      "---\n",
      "\n",
      "### Bottom Line\n",
      "\n",
      "- **Most hangs** are caused by GPU driver mismatches or missing dependencies.  \n",
      "- **Crashes** often stem from corrupted config files or incompatible OS updates.  \n",
      "- **Reinstall + clean user profile** usually resolves the issue.\n",
      "\n",
      "If you hit a wall after trying the above, let me know the exact error message or log snippet, and we can dig deeper.\n",
      "\n",
      "\n",
      "\n"
     ]
    }
   ],
   "source": [
    "for chunk in graph.stream(\n",
    "    {\n",
    "        \"messages\": [\n",
    "            {\n",
    "                \"role\": \"user\",\n",
    "                # \"content\": \"What does Lilian Weng say about types of reward hacking?\",\n",
    "                \"content\": \"vtune gui hangs and crashes\",\n",
    "\n",
    "            }\n",
    "        ]\n",
    "    }\n",
    "):\n",
    "    for node, update in chunk.items():\n",
    "        print(\"Update from node\", node)\n",
    "        try:\n",
    "            update[\"messages\"][-1].pretty_print()\n",
    "        except:\n",
    "            update[\"messages\"][-1]\n",
    "        print(\"\\n\\n\")"
   ]
  },
  {
   "cell_type": "code",
   "execution_count": null,
   "id": "f4b530c1-9f7e-4aad-985d-8f71fa1c75c1",
   "metadata": {},
   "outputs": [],
   "source": []
  },
  {
   "cell_type": "code",
   "execution_count": null,
   "id": "c826f8b4-1558-4cd6-ba23-dbf75fafbfe6",
   "metadata": {},
   "outputs": [],
   "source": []
  },
  {
   "cell_type": "code",
   "execution_count": null,
   "id": "5b64a591-cd61-4045-bb09-d6f408169296",
   "metadata": {},
   "outputs": [],
   "source": []
  }
 ],
 "metadata": {
  "kernelspec": {
   "display_name": "hack",
   "language": "python",
   "name": "hack"
  },
  "language_info": {
   "codemirror_mode": {
    "name": "ipython",
    "version": 3
   },
   "file_extension": ".py",
   "mimetype": "text/x-python",
   "name": "python",
   "nbconvert_exporter": "python",
   "pygments_lexer": "ipython3",
   "version": "3.11.9"
  }
 },
 "nbformat": 4,
 "nbformat_minor": 5
}
